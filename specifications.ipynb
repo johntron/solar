{
 "cells": [
  {
   "cell_type": "markdown",
   "metadata": {},
   "source": [
    "## Table of contents\n",
    "\n",
    "* <a href=\"#panels\">Panels</a>\n",
    "* <a href=\"#batteries\">Batteries</a>\n",
    "* <a href=\"#inverters\">Inverters</a>\n",
    "* <a href=\"#intelligence\">Intelligence</a>"
   ]
  },
  {
   "cell_type": "markdown",
   "metadata": {},
   "source": [
    "## Panels <a id=\"panels\"></a>\n",
    "\n",
    "### Power\n",
    "\n",
    "Maximum *theoretical* power the panel could produce if they were 100% efficient (they aren't).\n",
    "\n",
    "### Efficiency\n",
    "\n",
    "#### Quantum \n",
    "\n",
    "Amount of solar energy converted to electricity\t\n",
    "\n",
    "#### Total\n",
    "\n",
    "Energy converted into *usable* electricity (at the outlet)\t\n",
    "\n",
    "### Coefficient\n",
    "\n",
    "Affect of heat on efficiency\t\n",
    "\n",
    "### Wind\n",
    "\n",
    "Max rated windspeed\t\n",
    "\n",
    "### Warranty\n",
    "\n",
    "#### Years\n",
    "\n",
    "##### Min output (%)\t\t\n",
    "\n",
    "#### Waiting period\n",
    "\n",
    "Doesn't really have a name, but this is what I'll call it. This is how long you have to wait for an out-of-spec item before it will be replaced.\n",
    "\n",
    "#### Labor\n",
    "\n",
    "Amount covered by warranty\t"
   ]
  },
  {
   "cell_type": "markdown",
   "metadata": {},
   "source": [
    "\n",
    "## Batteries <a id=\"batteries\"></a>\n",
    "\n",
    "### kW\n",
    "\n",
    "Max power that can be charged and/or discharged from the battery; Need to also consider max power the inverter supports.\n",
    "\n",
    "### kWh\n",
    "\n",
    "Max power storage capacity. Max runtime is kWh / min(P<sub>p</sub>, P<sub>i</sub>) where P<sub>p</sub> is max kW of panel and P<sub>i</sub> is max kW of inverter.\n",
    "\n",
    "#### Chemistry\n",
    "\n",
    "* AGM is unsutable\n",
    "* LiFePO4 might be cheapest\n",
    "* Li-ion considered \"gold standard\" - esp. NMC formulation, LiNiMnCoO2"
   ]
  },
  {
   "cell_type": "markdown",
   "metadata": {},
   "source": [
    "\n",
    "## Inverter(s) <a id=\"inverters\"></a>"
   ]
  },
  {
   "cell_type": "markdown",
   "metadata": {},
   "source": [
    "\n",
    "## Intelligence: management and monitoring <a id=\"intelligence\"></a>"
   ]
  }
 ],
 "metadata": {
  "kernelspec": {
   "display_name": "Python 3.8.13 64-bit ('3.8.13')",
   "language": "python",
   "name": "python3"
  },
  "language_info": {
   "codemirror_mode": {
    "name": "ipython",
    "version": 3
   },
   "file_extension": ".py",
   "mimetype": "text/x-python",
   "name": "python",
   "nbconvert_exporter": "python",
   "pygments_lexer": "ipython3",
   "version": "3.8.13"
  },
  "orig_nbformat": 4,
  "vscode": {
   "interpreter": {
    "hash": "110cc1dee26208153f2972f08a2ad52b6a56238dc66d48e87fb757ef2996db56"
   }
  }
 },
 "nbformat": 4,
 "nbformat_minor": 2
}
